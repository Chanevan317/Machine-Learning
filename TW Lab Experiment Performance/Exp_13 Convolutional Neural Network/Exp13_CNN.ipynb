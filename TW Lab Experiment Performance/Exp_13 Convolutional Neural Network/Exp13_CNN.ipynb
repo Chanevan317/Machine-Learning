{
  "nbformat": 4,
  "nbformat_minor": 0,
  "metadata": {
    "colab": {
      "provenance": []
    },
    "kernelspec": {
      "name": "python3",
      "display_name": "Python 3"
    },
    "language_info": {
      "name": "python"
    }
  },
  "cells": [
    {
      "cell_type": "code",
      "execution_count": null,
      "metadata": {
        "id": "dyRxQgseju1e"
      },
      "outputs": [],
      "source": [
        "#import libraries\n",
        "import numpy as np\n",
        "import pandas as pd\n",
        "import matplotlib.pyplot as plt\n",
        "import keras\n",
        "from keras.datasets import fashion_mnist\n",
        "import keras.models as models\n",
        "import keras.layers as layers\n",
        "from keras import regularizers\n",
        "from keras.layers import Dropout"
      ]
    },
    {
      "cell_type": "code",
      "source": [
        "import tensorflow as tf\n",
        "from tensorflow.keras.models import Sequential, Model\n",
        "from tensorflow.keras.layers import Dense,Activation,Flatten,Dropout,Conv2D, MaxPooling2D, LeakyReLU\n",
        "from tensorflow.keras.utils import to_categorical   #for the categorical data"
      ],
      "metadata": {
        "id": "ARC5lPrCmDb4"
      },
      "execution_count": null,
      "outputs": []
    },
    {
      "cell_type": "code",
      "source": [
        "print(keras.__version__)"
      ],
      "metadata": {
        "colab": {
          "base_uri": "https://localhost:8080/"
        },
        "id": "cd28N7Confy1",
        "outputId": "d28648e0-5fcc-44b0-a160-6e52dfe9a818"
      },
      "execution_count": null,
      "outputs": [
        {
          "output_type": "stream",
          "name": "stdout",
          "text": [
            "3.10.0\n"
          ]
        }
      ]
    },
    {
      "cell_type": "code",
      "source": [
        "#import the dataset #x: Images and Y: labels of the images\n",
        "(train_X,train_Y),(test_X,test_Y)=fashion_mnist.load_data()"
      ],
      "metadata": {
        "id": "E0GuuX3fnnvJ",
        "colab": {
          "base_uri": "https://localhost:8080/"
        },
        "outputId": "01d71c4c-1fa7-454a-9b8f-02533fb45bc9"
      },
      "execution_count": null,
      "outputs": [
        {
          "output_type": "stream",
          "name": "stdout",
          "text": [
            "Downloading data from https://storage.googleapis.com/tensorflow/tf-keras-datasets/train-labels-idx1-ubyte.gz\n",
            "\u001b[1m29515/29515\u001b[0m \u001b[32m━━━━━━━━━━━━━━━━━━━━\u001b[0m\u001b[37m\u001b[0m \u001b[1m0s\u001b[0m 0us/step\n",
            "Downloading data from https://storage.googleapis.com/tensorflow/tf-keras-datasets/train-images-idx3-ubyte.gz\n",
            "\u001b[1m26421880/26421880\u001b[0m \u001b[32m━━━━━━━━━━━━━━━━━━━━\u001b[0m\u001b[37m\u001b[0m \u001b[1m2s\u001b[0m 0us/step\n",
            "Downloading data from https://storage.googleapis.com/tensorflow/tf-keras-datasets/t10k-labels-idx1-ubyte.gz\n",
            "\u001b[1m5148/5148\u001b[0m \u001b[32m━━━━━━━━━━━━━━━━━━━━\u001b[0m\u001b[37m\u001b[0m \u001b[1m0s\u001b[0m 0us/step\n",
            "Downloading data from https://storage.googleapis.com/tensorflow/tf-keras-datasets/t10k-images-idx3-ubyte.gz\n",
            "\u001b[1m4422102/4422102\u001b[0m \u001b[32m━━━━━━━━━━━━━━━━━━━━\u001b[0m\u001b[37m\u001b[0m \u001b[1m1s\u001b[0m 0us/step\n"
          ]
        }
      ]
    },
    {
      "cell_type": "code",
      "source": [
        "plt.imshow(train_X[0])\n",
        "print(train_Y[0])"
      ],
      "metadata": {
        "colab": {
          "base_uri": "https://localhost:8080/",
          "height": 448
        },
        "id": "aHkbgXMToqce",
        "outputId": "d21db4f8-5248-4e04-8f85-992f44356c7b"
      },
      "execution_count": null,
      "outputs": [
        {
          "output_type": "stream",
          "name": "stdout",
          "text": [
            "9\n"
          ]
        },
        {
          "output_type": "display_data",
          "data": {
            "text/plain": [
              "<Figure size 640x480 with 1 Axes>"
            ],
            "image/png": "[encoded data removed]"
          },
          "metadata": {}
        }
      ]
    },
    {
      "cell_type": "code",
      "source": [
        "print(train_X.shape,train_Y.shape)"
      ],
      "metadata": {
        "colab": {
          "base_uri": "https://localhost:8080/"
        },
        "id": "U4SX3S_do7kW",
        "outputId": "9bec6666-e33c-4487-a154-aca71c90cbca"
      },
      "execution_count": null,
      "outputs": [
        {
          "output_type": "stream",
          "name": "stdout",
          "text": [
            "(60000, 28, 28) (60000,)\n"
          ]
        }
      ]
    },
    {
      "cell_type": "code",
      "source": [
        "print(test_X.shape, test_Y.shape)"
      ],
      "metadata": {
        "colab": {
          "base_uri": "https://localhost:8080/"
        },
        "id": "Ryw4nN-IpI1b",
        "outputId": "5c3a4bcb-15bb-4306-b534-f5f64c655409"
      },
      "execution_count": null,
      "outputs": [
        {
          "output_type": "stream",
          "name": "stdout",
          "text": [
            "(10000, 28, 28) (10000,)\n"
          ]
        }
      ]
    },
    {
      "cell_type": "code",
      "source": [
        "classes=np.unique(train_Y)\n",
        "nClasses=len(classes)\n",
        "print(classes)\n",
        "print(nClasses)"
      ],
      "metadata": {
        "colab": {
          "base_uri": "https://localhost:8080/"
        },
        "id": "S18XkwkEpeAf",
        "outputId": "f9b74b18-3144-48fd-8b0a-96a6506c522a"
      },
      "execution_count": null,
      "outputs": [
        {
          "output_type": "stream",
          "name": "stdout",
          "text": [
            "[0 1 2 3 4 5 6 7 8 9]\n",
            "10\n"
          ]
        }
      ]
    },
    {
      "cell_type": "code",
      "source": [
        "train_X=train_X.reshape(-1,28,28,1)\n",
        "test_X=test_X.reshape(-1,28,28,1)"
      ],
      "metadata": {
        "id": "SHOfnHiJpvKi"
      },
      "execution_count": null,
      "outputs": []
    },
    {
      "cell_type": "code",
      "source": [
        "print(train_X.shape,train_Y.shape)\n",
        "print(test_X.shape, test_Y.shape)"
      ],
      "metadata": {
        "colab": {
          "base_uri": "https://localhost:8080/"
        },
        "id": "nOdQpkyRrmzf",
        "outputId": "eff9f852-b4b5-4930-e971-4d2dbb3ec843"
      },
      "execution_count": null,
      "outputs": [
        {
          "output_type": "stream",
          "name": "stdout",
          "text": [
            "(60000, 28, 28, 1) (60000,)\n",
            "(10000, 28, 28, 1) (10000,)\n"
          ]
        }
      ]
    },
    {
      "cell_type": "code",
      "source": [
        "#Range of pixel values for each type of image\n",
        "#Black-White: 0-1\n",
        "#Grayscale: 0-255\n",
        "#RGB: (0-255)*3"
      ],
      "metadata": {
        "id": "Hzo5GmKnro6_"
      },
      "execution_count": null,
      "outputs": []
    },
    {
      "cell_type": "code",
      "source": [
        "#converting the values of the pixels from 0-1\n",
        "#type-conversion\n",
        "train_X=train_X.astype('float32')\n",
        "test_X=test_X.astype('float32')\n",
        "train_X=train_X/255\n",
        "test_X=test_X/255"
      ],
      "metadata": {
        "id": "U8mTNoeJsWJv"
      },
      "execution_count": null,
      "outputs": []
    },
    {
      "cell_type": "code",
      "source": [
        "train_Y_one_hot=to_categorical(train_Y)\n",
        "test_Y_one_hot=to_categorical(test_Y)"
      ],
      "metadata": {
        "id": "9yzBH7pOuNnv"
      },
      "execution_count": null,
      "outputs": []
    },
    {
      "cell_type": "code",
      "source": [
        "train_Y[0]"
      ],
      "metadata": {
        "colab": {
          "base_uri": "https://localhost:8080/"
        },
        "id": "5r1fb-BYuwms",
        "outputId": "b0b3fa6e-ac69-4d93-fab9-4e9386b8571a"
      },
      "execution_count": null,
      "outputs": [
        {
          "output_type": "execute_result",
          "data": {
            "text/plain": [
              "np.uint8(9)"
            ]
          },
          "metadata": {},
          "execution_count": 17
        }
      ]
    },
    {
      "cell_type": "code",
      "source": [
        "train_Y_one_hot[0]"
      ],
      "metadata": {
        "colab": {
          "base_uri": "https://localhost:8080/"
        },
        "id": "QsipM8rku0jc",
        "outputId": "1cecc4c1-c7b2-4a3f-e656-dcf0edc5dda0"
      },
      "execution_count": null,
      "outputs": [
        {
          "output_type": "execute_result",
          "data": {
            "text/plain": [
              "array([0., 0., 0., 0., 0., 0., 0., 0., 0., 1.])"
            ]
          },
          "metadata": {},
          "execution_count": 18
        }
      ]
    },
    {
      "cell_type": "code",
      "source": [
        "#Model training task"
      ],
      "metadata": {
        "id": "CLnqeAG8u2_E"
      },
      "execution_count": null,
      "outputs": []
    },
    {
      "cell_type": "code",
      "source": [
        "from sklearn.model_selection import train_test_split\n",
        "train_X,valid_X,train_label,valid_label=train_test_split(train_X,train_Y_one_hot,test_size=0.2,random_state=13)"
      ],
      "metadata": {
        "id": "_PhvY3XrvEEs"
      },
      "execution_count": null,
      "outputs": []
    },
    {
      "cell_type": "code",
      "source": [
        "train_X.shape,valid_X.shape,train_label.shape,valid_label.shape"
      ],
      "metadata": {
        "colab": {
          "base_uri": "https://localhost:8080/"
        },
        "id": "ytlxmLOmwbLR",
        "outputId": "7ad4733f-5163-4fa0-829a-b49cb92abca2"
      },
      "execution_count": null,
      "outputs": [
        {
          "output_type": "execute_result",
          "data": {
            "text/plain": [
              "((48000, 28, 28, 1), (12000, 28, 28, 1), (48000, 10), (12000, 10))"
            ]
          },
          "metadata": {},
          "execution_count": 21
        }
      ]
    },
    {
      "cell_type": "code",
      "source": [
        "#Basic CNN model Develop\n",
        "#Regularization and Dropout\n",
        "#2nd CNN MODEL DEVELOPMENT"
      ],
      "metadata": {
        "id": "CpmDI06swiLN"
      },
      "execution_count": null,
      "outputs": []
    },
    {
      "cell_type": "code",
      "source": [
        "batch_size=64\n",
        "epochs=20\n",
        "num_classes=10"
      ],
      "metadata": {
        "id": "34ZSuDIH1l16"
      },
      "execution_count": null,
      "outputs": []
    },
    {
      "cell_type": "code",
      "source": [
        "model=tf.keras.Sequential()"
      ],
      "metadata": {
        "id": "8oY5K_vxC12q"
      },
      "execution_count": null,
      "outputs": []
    },
    {
      "cell_type": "code",
      "source": [
        "#1st hidden layer\n",
        "model.add(tf.keras.layers.Conv2D(32,(3,3),activation=\"linear\",padding='same'))\n",
        "model.add(tf.keras.layers.LeakyReLU(alpha=0.1))\n",
        "model.add(tf.keras.layers.MaxPooling2D(pool_size=(2,2),padding='same'))"
      ],
      "metadata": {
        "id": "4HeZE1dkEhJ_",
        "colab": {
          "base_uri": "https://localhost:8080/"
        },
        "outputId": "152c8775-46d1-43c9-948f-fe71991369d8"
      },
      "execution_count": null,
      "outputs": [
        {
          "output_type": "stream",
          "name": "stderr",
          "text": [
            "/usr/local/lib/python3.12/dist-packages/keras/src/layers/activations/leaky_relu.py:41: UserWarning: Argument `alpha` is deprecated. Use `negative_slope` instead.\n",
            "  warnings.warn(\n"
          ]
        }
      ]
    },
    {
      "cell_type": "code",
      "source": [
        "#2nd hidden layer\n",
        "model.add(tf.keras.layers.Conv2D(64,(3,3),activation=\"linear\",padding='same'))\n",
        "model.add(tf.keras.layers.LeakyReLU(alpha=0.1))\n",
        "model.add(tf.keras.layers.MaxPooling2D(pool_size=(2,2),padding='same'))"
      ],
      "metadata": {
        "id": "CUmeCbCeHVTx"
      },
      "execution_count": null,
      "outputs": []
    },
    {
      "cell_type": "code",
      "source": [
        "#3rd hidden layer\n",
        "model.add(tf.keras.layers.Conv2D(128,(3,3),activation=\"linear\",padding='same'))\n",
        "model.add(tf.keras.layers.LeakyReLU(alpha=0.1))\n",
        "model.add(tf.keras.layers.MaxPooling2D(pool_size=(2,2),padding='same'))"
      ],
      "metadata": {
        "id": "oq76PX-YH40M"
      },
      "execution_count": null,
      "outputs": []
    },
    {
      "cell_type": "code",
      "source": [
        "model.add(tf.keras.layers.Flatten())"
      ],
      "metadata": {
        "id": "JL0Z3zKbICsA"
      },
      "execution_count": null,
      "outputs": []
    },
    {
      "cell_type": "code",
      "source": [
        "model.add(tf.keras.layers.Dense(128,activation='linear'))\n",
        "model.add(tf.keras.layers.LeakyReLU(alpha=0.1))\n",
        "model.add(tf.keras.layers.Dense(num_classes,activation='softmax'))#output final layer"
      ],
      "metadata": {
        "id": "2b9AuqfIIXxM"
      },
      "execution_count": null,
      "outputs": []
    },
    {
      "cell_type": "code",
      "source": [
        "model.compile(loss=tf.keras.losses.categorical_crossentropy,optimizer=tf.keras.optimizers.Adam(),metrics=['accuracy'])"
      ],
      "metadata": {
        "id": "atB0d36zJCAp"
      },
      "execution_count": null,
      "outputs": []
    },
    {
      "cell_type": "code",
      "source": [
        "48000/64"
      ],
      "metadata": {
        "colab": {
          "base_uri": "https://localhost:8080/"
        },
        "id": "vsRwW-9sqF57",
        "outputId": "18fadfac-72a7-479b-b13d-ac37cd480ccf"
      },
      "execution_count": null,
      "outputs": [
        {
          "output_type": "execute_result",
          "data": {
            "text/plain": [
              "750.0"
            ]
          },
          "metadata": {},
          "execution_count": 31
        }
      ]
    },
    {
      "cell_type": "code",
      "source": [
        "model_train=model.fit(train_X,train_label,batch_size=64,epochs=20,verbose=1,validation_data=(valid_X,valid_label))"
      ],
      "metadata": {
        "id": "oOATyF38Lynm"
      },
      "execution_count": null,
      "outputs": []
    },
    {
      "cell_type": "code",
      "source": [
        "testing_evaluation=model.evaluate(test_X,test_Y_one_hot)"
      ],
      "metadata": {
        "colab": {
          "base_uri": "https://localhost:8080/"
        },
        "id": "ZEcAY6semwgv",
        "outputId": "5921e683-f159-4280-dee0-4d9d2ac45d77"
      },
      "execution_count": null,
      "outputs": [
        {
          "output_type": "stream",
          "name": "stdout",
          "text": [
            "313/313 [==============================] - 5s 17ms/step - loss: 0.4913 - accuracy: 0.9161\n"
          ]
        }
      ]
    },
    {
      "cell_type": "code",
      "source": [
        "testing_evaluation  #loss,accuracy"
      ],
      "metadata": {
        "colab": {
          "base_uri": "https://localhost:8080/"
        },
        "id": "78HR1A3hnAuq",
        "outputId": "13e1bca9-409c-409f-dd72-6bd9d0c8af95"
      },
      "execution_count": null,
      "outputs": [
        {
          "output_type": "execute_result",
          "data": {
            "text/plain": [
              "[0.4913441836833954, 0.916100025177002]"
            ]
          },
          "metadata": {},
          "execution_count": 30
        }
      ]
    },
    {
      "cell_type": "code",
      "source": [
        "model_train.history"
      ],
      "metadata": {
        "id": "i40MlfLpnKwl"
      },
      "execution_count": null,
      "outputs": []
    },
    {
      "cell_type": "code",
      "source": [
        "accuracy=model_train.history['accuracy']\n",
        "val_accuracy=model_train.history['val_accuracy']\n",
        "loss=model_train.history['loss']\n",
        "val_loss=model_train.history['val_loss']\n",
        "epochs=range(len(accuracy))"
      ],
      "metadata": {
        "id": "cGNq8LzwZzUe"
      },
      "execution_count": null,
      "outputs": []
    },
    {
      "cell_type": "code",
      "source": [
        "plt.plot(epochs,accuracy,label='training accuracy')\n",
        "plt.plot(epochs,val_accuracy,label='validation accuracy')\n",
        "plt.title('evaluating based on accuracy')\n",
        "plt.legend()\n",
        "plt.show()"
      ],
      "metadata": {
        "colab": {
          "base_uri": "https://localhost:8080/",
          "height": 281
        },
        "id": "M-0iL10knquM",
        "outputId": "d75c8ab8-0c65-47aa-92ed-42cd3dde548c"
      },
      "execution_count": null,
      "outputs": [
        {
          "output_type": "display_data",
          "data": {
            "text/plain": [
              "<Figure size 432x288 with 1 Axes>"
            ],
            "image/png": "[encoded data removed]"
          },
          "metadata": {
            "needs_background": "light"
          }
        }
      ]
    },
    {
      "cell_type": "code",
      "source": [
        "plt.plot(epochs,loss,label='training loss')\n",
        "plt.plot(epochs,val_loss,label='validation loss')\n",
        "plt.title('evaluating based on loss')\n",
        "plt.legend()\n",
        "plt.show()"
      ],
      "metadata": {
        "colab": {
          "base_uri": "https://localhost:8080/",
          "height": 281
        },
        "id": "uOe1sBkNoFjY",
        "outputId": "ee14db63-34dc-4df6-c77e-29187fe0e82d"
      },
      "execution_count": null,
      "outputs": [
        {
          "output_type": "display_data",
          "data": {
            "text/plain": [
              "<Figure size 432x288 with 1 Axes>"
            ],
            "image/png": "[encoded data removed]"
          },
          "metadata": {
            "needs_background": "light"
          }
        }
      ]
    },
    {
      "cell_type": "markdown",
      "source": [
        "Regularization"
      ],
      "metadata": {
        "id": "3_yTOPQNo7sC"
      }
    },
    {
      "cell_type": "code",
      "source": [
        "regmodel=tf.keras.Sequential()\n",
        "#1st hidden layer\n",
        "regmodel.add(tf.keras.layers.Conv2D(32,(3,3),activation=\"linear\",padding='same'))\n",
        "regmodel.add(tf.keras.layers.LeakyReLU(alpha=0.1))\n",
        "regmodel.add(tf.keras.layers.MaxPooling2D(pool_size=(2,2),padding='same'))\n",
        "regmodel.add(tf.keras.layers.Dropout(0.25))\n",
        "#2nd hidden layer\n",
        "regmodel.add(tf.keras.layers.Conv2D(64,(3,3),activation=\"linear\",padding='same'))\n",
        "regmodel.add(tf.keras.layers.LeakyReLU(alpha=0.1))\n",
        "regmodel.add(tf.keras.layers.MaxPooling2D(pool_size=(2,2),padding='same'))\n",
        "regmodel.add(tf.keras.layers.Dropout(0.25))\n",
        "#3rd hidden layer\n",
        "regmodel.add(tf.keras.layers.Conv2D(128,(3,3),activation=\"linear\",padding='same'))\n",
        "regmodel.add(tf.keras.layers.LeakyReLU(alpha=0.1))\n",
        "regmodel.add(tf.keras.layers.MaxPooling2D(pool_size=(2,2),padding='same'))\n",
        "regmodel.add(tf.keras.layers.Dropout(0.40))\n",
        "regmodel.add(tf.keras.layers.Flatten())\n",
        "regmodel.add(tf.keras.layers.Dense(128,activation='linear'))\n",
        "regmodel.add(tf.keras.layers.LeakyReLU(alpha=0.1))\n",
        "regmodel.add(tf.keras.layers.Dropout(0.3))\n",
        "regmodel.add(tf.keras.layers.Dense(num_classes,activation='softmax'))#output final layer"
      ],
      "metadata": {
        "id": "gvQQsh09oV3U"
      },
      "execution_count": null,
      "outputs": []
    },
    {
      "cell_type": "code",
      "source": [
        "regmodel.compile(loss=tf.keras.losses.categorical_crossentropy,optimizer=tf.keras.optimizers.Adam(),metrics=['accuracy'])"
      ],
      "metadata": {
        "id": "mdmoBdOmq2Lw"
      },
      "execution_count": null,
      "outputs": []
    },
    {
      "cell_type": "code",
      "source": [
        "reg_model_train=regmodel.fit(train_X,train_label,batch_size=64,epochs=20,verbose=1,validation_data=(valid_X,valid_label))"
      ],
      "metadata": {
        "id": "xduPL_sLq8dI"
      },
      "execution_count": null,
      "outputs": []
    },
    {
      "cell_type": "code",
      "source": [],
      "metadata": {
        "id": "-sauIqczrE8j"
      },
      "execution_count": null,
      "outputs": []
    }
  ]
}